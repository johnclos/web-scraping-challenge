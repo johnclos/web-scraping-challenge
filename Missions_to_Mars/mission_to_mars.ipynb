{
 "cells": [
  {
   "cell_type": "code",
   "execution_count": 1,
   "metadata": {
    "scrolled": true
   },
   "outputs": [],
   "source": [
    "# dependencies BeautifulSoup, Pandas, and Requests/Splinter\n",
    "from bs4 import BeautifulSoup as bs\n",
    "import pymongo\n",
    "import pandas as pd\n",
    "import requests\n",
    "from splinter import Browser\n",
    "from webdriver_manager.chrome import ChromeDriverManager"
   ]
  },
  {
   "cell_type": "markdown",
   "metadata": {},
   "source": [
    "### NASA Mars News"
   ]
  },
  {
   "cell_type": "code",
   "execution_count": 2,
   "metadata": {},
   "outputs": [],
   "source": [
    "# Scrape the [Mars News Site](https://redplanetscience.com/) and collect the latest News Title and Paragraph Text.\n",
    "    # Assign the text to variables that you can reference later.\n",
    "url_mars_news = 'https://redplanetscience.com/#'"
   ]
  },
  {
   "cell_type": "code",
   "execution_count": 3,
   "metadata": {},
   "outputs": [],
   "source": [
    "# Retrieve page with the requests module\n",
    "response_mars_news = requests.get(url_mars_news)"
   ]
  },
  {
   "cell_type": "code",
   "execution_count": 4,
   "metadata": {},
   "outputs": [
    {
     "data": {
      "text/plain": [
       "bs4.BeautifulSoup"
      ]
     },
     "execution_count": 4,
     "metadata": {},
     "output_type": "execute_result"
    }
   ],
   "source": [
    "# Use BeautifulSoup to help find and parse out the necessary data.  Use either html.parser or lxml parser.\n",
    "# Create a Beautiful Soup object\n",
    "soup_mars_news = bs(response_mars_news.text, 'html.parser')\n",
    "type(soup_mars_news)"
   ]
  },
  {
   "cell_type": "code",
   "execution_count": 5,
   "metadata": {},
   "outputs": [],
   "source": [
    "# Print formatted version of the soup\n",
    "#print(soup_mars_news.prettify())"
   ]
  },
  {
   "cell_type": "code",
   "execution_count": 6,
   "metadata": {},
   "outputs": [],
   "source": [
    "# ```python\n",
    "# Example:\n",
    "    # news_title = \"NASA's Next Mars Mission to Investigate Interior of Red Planet\"\n",
    "    # news_p = \"Preparation of NASA's next spacecraft to Mars, InSight, has ramped up this summer, on course for \n",
    "    # launch next May from Vandenberg Air Force Base in central California -- the first interplanetary launch \n",
    "    # in history from America's West Coast.\"\n",
    "    \n",
    "    "
   ]
  },
  {
   "cell_type": "markdown",
   "metadata": {},
   "source": [
    "### JPL Mars Space Images - Featured Image"
   ]
  },
  {
   "cell_type": "code",
   "execution_count": 7,
   "metadata": {},
   "outputs": [],
   "source": [
    "# Visit the url for the Featured Space Image site [here](https://spaceimages-mars.com).\n",
    "url_mars_imag = 'https://spaceimages-mars.com'"
   ]
  },
  {
   "cell_type": "code",
   "execution_count": 8,
   "metadata": {},
   "outputs": [],
   "source": [
    "# Retrieve page with the requests module\n",
    "response_mars_imag = requests.get(url_mars_imag)"
   ]
  },
  {
   "cell_type": "code",
   "execution_count": 9,
   "metadata": {},
   "outputs": [
    {
     "data": {
      "text/plain": [
       "bs4.BeautifulSoup"
      ]
     },
     "execution_count": 9,
     "metadata": {},
     "output_type": "execute_result"
    }
   ],
   "source": [
    "# Use BeautifulSoup to help find and parse out the necessary data.  Use either html.parser or lxml parser.\n",
    "# Create a Beautiful Soup object\n",
    "soup_mars_imag = bs(response_mars_imag.text, 'html.parser')\n",
    "type(soup_mars_imag)"
   ]
  },
  {
   "cell_type": "code",
   "execution_count": 10,
   "metadata": {},
   "outputs": [],
   "source": [
    "# Print formatted version of the soup\n",
    "#print(soup_mars_imag.prettify())"
   ]
  },
  {
   "cell_type": "code",
   "execution_count": 11,
   "metadata": {},
   "outputs": [],
   "source": [
    "# Use splinter to navigate the site and find the image url for the current Featured Mars Image and assign the url \n",
    "    # string to a variable called `featured_image_url`.\n",
    "    # reference C:\\Users\\jjel0\\OneDrive\\class_repo\\gt-virt-atl-data-pt-06-2021-u-c-2\\12-Web-Scraping-and-Document-Databases\\2\\Activities\\07-Ins_Splinter\n",
    "\n",
    "\n",
    "# Make sure to find the image url to the full size `.jpg` image.\n",
    "\n",
    "\n",
    "# Make sure to save a complete url string for this image.\n",
    "# ```python\n",
    "# Example:\n",
    "    # featured_image_url = 'https://spaceimages-mars.com/image/featured/mars2.jpg'\n"
   ]
  },
  {
   "cell_type": "markdown",
   "metadata": {},
   "source": [
    "### Mars Facts"
   ]
  },
  {
   "cell_type": "code",
   "execution_count": 12,
   "metadata": {},
   "outputs": [],
   "source": [
    "# Visit the Mars Facts webpage [here](https://galaxyfacts-mars.com) and use Pandas to scrape the table containing\n",
    "    # facts about the planet including Diameter, Mass, etc.\n",
    "url_mars_facts = 'https://galaxyfacts-mars.com'"
   ]
  },
  {
   "cell_type": "code",
   "execution_count": 13,
   "metadata": {},
   "outputs": [],
   "source": [
    "# Retrieve page with the requests module\n",
    "response_mars_facts = requests.get(url_mars_facts)"
   ]
  },
  {
   "cell_type": "code",
   "execution_count": 14,
   "metadata": {},
   "outputs": [],
   "source": [
    "# Use Pandas to convert the data to a HTML table string.\n"
   ]
  },
  {
   "cell_type": "markdown",
   "metadata": {},
   "source": [
    "### Mars Hemispheres"
   ]
  },
  {
   "cell_type": "code",
   "execution_count": 15,
   "metadata": {},
   "outputs": [],
   "source": [
    "# Visit the astrogeology site [here](https://marshemispheres.com/) to obtain high resolution images for each of \n",
    "    # Mars hemispheres.\n",
    "url_mars_hemis = 'https://marshemispheres.com/'"
   ]
  },
  {
   "cell_type": "code",
   "execution_count": 16,
   "metadata": {},
   "outputs": [],
   "source": [
    "# Retrieve page with the requests module\n",
    "response_mars_hemis = requests.get(url_mars_hemis)"
   ]
  },
  {
   "cell_type": "code",
   "execution_count": 17,
   "metadata": {},
   "outputs": [
    {
     "data": {
      "text/plain": [
       "bs4.BeautifulSoup"
      ]
     },
     "execution_count": 17,
     "metadata": {},
     "output_type": "execute_result"
    }
   ],
   "source": [
    "# Use BeautifulSoup to help find and parse out the necessary data.  Use either html.parser or lxml parser.\n",
    "# Create a Beautiful Soup object\n",
    "soup_mars_hemis = bs(response_mars_hemis.text, 'html.parser')\n",
    "type(soup_mars_hemis)"
   ]
  },
  {
   "cell_type": "code",
   "execution_count": 18,
   "metadata": {},
   "outputs": [],
   "source": [
    "# Print formatted version of the soup\n",
    "# print(soup_mars_hemis.prettify())"
   ]
  },
  {
   "cell_type": "code",
   "execution_count": 19,
   "metadata": {},
   "outputs": [],
   "source": [
    "# You will need to click each of the links to the hemispheres in order to find the image url to the full\n",
    "    # resolution image.\n",
    "# Save both the image url string for the full resolution hemisphere image, and the Hemisphere title containing\n",
    "    # the hemisphere name. Use a Python dictionary to store the data using the keys `img_url` and `title`.\n",
    "\n",
    "\n",
    "# Append the dictionary with the image url string and the hemisphere title to a list. This list will contain\n",
    "    # one dictionary for each hemisphere.\n",
    "\n",
    "\n",
    "# ```python\n",
    "# # Example:\n",
    "    # hemisphere_image_urls = [\n",
    "    #     {\"title\": \"Valles Marineris Hemisphere\", \"img_url\": \"...\"},\n",
    "    #     {\"title\": \"Cerberus Hemisphere\", \"img_url\": \"...\"},\n",
    "    #     {\"title\": \"Schiaparelli Hemisphere\", \"img_url\": \"...\"},\n",
    "    #     {\"title\": \"Syrtis Major Hemisphere\", \"img_url\": \"...\"},\n",
    "    # ]\n",
    "# ```\n"
   ]
  }
 ],
 "metadata": {
  "kernelspec": {
   "display_name": "Python 3",
   "language": "python",
   "name": "python3"
  },
  "language_info": {
   "codemirror_mode": {
    "name": "ipython",
    "version": 3
   },
   "file_extension": ".py",
   "mimetype": "text/x-python",
   "name": "python",
   "nbconvert_exporter": "python",
   "pygments_lexer": "ipython3",
   "version": "3.8.5"
  }
 },
 "nbformat": 4,
 "nbformat_minor": 4
}
