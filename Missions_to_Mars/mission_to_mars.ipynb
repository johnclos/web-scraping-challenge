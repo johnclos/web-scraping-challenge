{
 "cells": [
  {
   "cell_type": "code",
   "execution_count": 27,
   "metadata": {
    "scrolled": true
   },
   "outputs": [],
   "source": [
    "# dependencies BeautifulSoup, Pandas, and Requests/Splinter\n",
    "from bs4 import BeautifulSoup as bs\n",
    "from selenium import webdriver\n",
    "import pymongo\n",
    "import pandas as pd\n",
    "import requests\n",
    "from splinter import Browser\n",
    "from webdriver_manager.chrome import ChromeDriverManager"
   ]
  },
  {
   "cell_type": "code",
   "execution_count": 28,
   "metadata": {},
   "outputs": [
    {
     "name": "stderr",
     "output_type": "stream",
     "text": [
      "\n",
      "\n",
      "====== WebDriver manager ======\n",
      "Current google-chrome version is 93.0.4577\n",
      "Get LATEST driver version for 93.0.4577\n",
      "Driver [C:\\Users\\jjel0\\.wdm\\drivers\\chromedriver\\win32\\93.0.4577.15\\chromedriver.exe] found in cache\n"
     ]
    }
   ],
   "source": [
    "# Setup splinter\n",
    "executable_path = {'executable_path': ChromeDriverManager().install()}\n",
    "browser = Browser('chrome', **executable_path, headless=False)"
   ]
  },
  {
   "cell_type": "markdown",
   "metadata": {},
   "source": [
    "### NASA Mars News"
   ]
  },
  {
   "cell_type": "code",
   "execution_count": 29,
   "metadata": {},
   "outputs": [],
   "source": [
    "# Scrape the [Mars News Site](https://redplanetscience.com/) and collect the latest News Title and Paragraph Text.\n",
    "    # Assign the text to variables that you can reference later.\n",
    "url_mars_news = 'https://redplanetscience.com/'\n",
    "browser.visit(url_mars_news)\n",
    "html_mars_news = browser.html"
   ]
  },
  {
   "cell_type": "code",
   "execution_count": 4,
   "metadata": {},
   "outputs": [],
   "source": [
    "# Use BeautifulSoup to help find and parse out the necessary data.  Use either html.parser or lxml parser.\n",
    "# Create a Beautiful Soup object\n",
    "soup_mars_news = bs(html_mars_news, 'html.parser')"
   ]
  },
  {
   "cell_type": "code",
   "execution_count": 30,
   "metadata": {},
   "outputs": [
    {
     "name": "stdout",
     "output_type": "stream",
     "text": [
      "NASA's MAVEN Observes Martian Night Sky Pulsing in Ultraviolet Light\n"
     ]
    },
    {
     "data": {
      "text/plain": [
       "'Vast areas of the Martian night sky pulse in ultraviolet light, according to images from NASA’s MAVEN spacecraft. The results are being used to illuminate complex circulation patterns in the Martian atmosphere.'"
      ]
     },
     "execution_count": 30,
     "metadata": {},
     "output_type": "execute_result"
    }
   ],
   "source": [
    "list_text_list = soup_mars_news.find('div', class_='list_text')\n",
    "content_title = list_text_list.find('div', class_='content_title').get_text()  \n",
    "article_teaser_body = list_text_list.find('div', class_='article_teaser_body').get_text()\n",
    "\n",
    "print(content_title)\n",
    "article_teaser_body\n",
    "\n",
    "# Collect the latest News Title and Paragraph Text.\n",
    "# list_text_list = soup_mars_news.find_all('div', class_='list_text')\n",
    "\n",
    "# content_title_strip_list = []\n",
    "# article_teaser_body_strip_list = []\n",
    "\n",
    "# # Loop through returned results (from 12-2-04)\n",
    "# for result in list_text_list:\n",
    "    \n",
    "#     # Retrieve the title\n",
    "#     content_title = result.find('div', class_='content_title')\n",
    "#     content_title_strip = content_title.text.lstrip()\n",
    "#     content_title_strip_list.append(content_title_strip)\n",
    "    \n",
    "#     # Retrieve the article body\n",
    "#     article_teaser_body = result.find('div', class_='article_teaser_body')\n",
    "#     article_teaser_body_strip = article_teaser_body.text.lstrip()\n",
    "#     article_teaser_body_strip_list.append(article_teaser_body_strip)\n",
    "\n",
    "# mars_news_dict = dict(zip(content_title_strip_list, article_teaser_body_strip_list))\n",
    "# mars_news_dict"
   ]
  },
  {
   "cell_type": "markdown",
   "metadata": {},
   "source": [
    "### JPL Mars Space Images - Featured Image"
   ]
  },
  {
   "cell_type": "code",
   "execution_count": 6,
   "metadata": {},
   "outputs": [],
   "source": [
    "# Visit the url for the Featured Space Image site [here](https://spaceimages-mars.com).\n",
    "url_mars_imag = 'https://spaceimages-mars.com'\n",
    "browser.visit(url_mars_imag)\n",
    "html_mars_imag = browser.html"
   ]
  },
  {
   "cell_type": "code",
   "execution_count": 7,
   "metadata": {},
   "outputs": [],
   "source": [
    "# Use BeautifulSoup to help find and parse out the necessary data.  Use either html.parser or lxml parser.\n",
    "# Create a Beautiful Soup object\n",
    "soup_mars_imag = bs(html_mars_imag, 'html.parser')"
   ]
  },
  {
   "cell_type": "code",
   "execution_count": 8,
   "metadata": {},
   "outputs": [
    {
     "data": {
      "text/plain": [
       "'https://spaceimages-mars.com/image/featured/mars3.jpg'"
      ]
     },
     "execution_count": 8,
     "metadata": {},
     "output_type": "execute_result"
    }
   ],
   "source": [
    "# Use splinter to navigate the site and find the image url for the current Featured Mars Image and assign the url \n",
    "    # string to a variable called `featured_image_url`.  Make sure to find the image url to the full size `.jpg` image.\n",
    "    # reference C:\\Users\\jjel0\\OneDrive\\class_repo\\gt-virt-atl-data-pt-06-2021-u-c-2\\12-Web-Scraping-and-Document-Databases\\2\\Activities\\07-Ins_Splinter\n",
    "    # Example:\n",
    "        # featured_image_url = 'https://spaceimages-mars.com/image/featured/mars2.jpg'\n",
    "featured_image = soup_mars_imag.find('a', class_='showimg fancybox-thumbs')\n",
    "# featured_image = soup_mars_imag.select_one('a.showimg fancybox-thumbs')\n",
    "\n",
    "href = featured_image['href']\n",
    "featured_image_url = 'https://spaceimages-mars.com/' + href\n",
    "featured_image_url"
   ]
  },
  {
   "cell_type": "markdown",
   "metadata": {},
   "source": [
    "### Mars Facts"
   ]
  },
  {
   "cell_type": "code",
   "execution_count": 31,
   "metadata": {},
   "outputs": [],
   "source": [
    "# Visit the Mars Facts webpage [here](https://galaxyfacts-mars.com) and use Pandas to scrape the table containing\n",
    "    # facts about the planet including Diameter, Mass, etc.\n",
    "url_mars_facts = 'https://galaxyfacts-mars.com'\n",
    "browser.visit(url_mars_facts)\n",
    "html_mars_facts = browser.html"
   ]
  },
  {
   "cell_type": "code",
   "execution_count": 10,
   "metadata": {},
   "outputs": [],
   "source": [
    "# Create a Beautiful Soup object\n",
    "soup_mars_facts = bs(html_mars_facts, 'lxml')"
   ]
  },
  {
   "cell_type": "code",
   "execution_count": 11,
   "metadata": {},
   "outputs": [
    {
     "data": {
      "text/plain": [
       "[                         0                1                2\n",
       " 0  Mars - Earth Comparison             Mars            Earth\n",
       " 1                Diameter:         6,779 km        12,742 km\n",
       " 2                    Mass:  6.39 × 10^23 kg  5.97 × 10^24 kg\n",
       " 3                   Moons:                2                1\n",
       " 4       Distance from Sun:   227,943,824 km   149,598,262 km\n",
       " 5          Length of Year:   687 Earth days      365.24 days\n",
       " 6             Temperature:     -87 to -5 °C      -88 to 58°C,\n",
       "                       0                              1\n",
       " 0  Equatorial Diameter:                       6,792 km\n",
       " 1       Polar Diameter:                       6,752 km\n",
       " 2                 Mass:  6.39 × 10^23 kg (0.11 Earths)\n",
       " 3                Moons:          2 ( Phobos & Deimos )\n",
       " 4       Orbit Distance:       227,943,824 km (1.38 AU)\n",
       " 5         Orbit Period:           687 days (1.9 years)\n",
       " 6  Surface Temperature:                   -87 to -5 °C\n",
       " 7         First Record:              2nd millennium BC\n",
       " 8          Recorded By:           Egyptian astronomers]"
      ]
     },
     "execution_count": 11,
     "metadata": {},
     "output_type": "execute_result"
    }
   ],
   "source": [
    "# Use Pandas to convert the data to a HTML table string.\n",
    "html_mars_facts_html = pd.read_html(url_mars_facts)\n",
    "html_mars_facts_html"
   ]
  },
  {
   "cell_type": "code",
   "execution_count": 33,
   "metadata": {},
   "outputs": [
    {
     "data": {
      "text/plain": [
       "'<table border=\"1\" class=\"dataframe\">\\n  <thead>\\n    <tr style=\"text-align: right;\">\\n      <th>description</th>\\n      <th>value</th>\\n    </tr>\\n  </thead>\\n  <tbody>\\n    <tr>\\n      <td>Equatorial Diameter:</td>\\n      <td>6,792 km</td>\\n    </tr>\\n    <tr>\\n      <td>Polar Diameter:</td>\\n      <td>6,752 km</td>\\n    </tr>\\n    <tr>\\n      <td>Mass:</td>\\n      <td>6.39 × 10^23 kg (0.11 Earths)</td>\\n    </tr>\\n    <tr>\\n      <td>Moons:</td>\\n      <td>2 ( Phobos &amp; Deimos )</td>\\n    </tr>\\n    <tr>\\n      <td>Orbit Distance:</td>\\n      <td>227,943,824 km (1.38 AU)</td>\\n    </tr>\\n    <tr>\\n      <td>Orbit Period:</td>\\n      <td>687 days (1.9 years)</td>\\n    </tr>\\n    <tr>\\n      <td>Surface Temperature:</td>\\n      <td>-87 to -5 °C</td>\\n    </tr>\\n    <tr>\\n      <td>First Record:</td>\\n      <td>2nd millennium BC</td>\\n    </tr>\\n    <tr>\\n      <td>Recorded By:</td>\\n      <td>Egyptian astronomers</td>\\n    </tr>\\n  </tbody>\\n</table>'"
      ]
     },
     "execution_count": 33,
     "metadata": {},
     "output_type": "execute_result"
    }
   ],
   "source": [
    "html_mars_facts_html = pd.read_html(url_mars_facts)[1]\n",
    "\n",
    "html_mars_facts_html.columns = [\"description\", \"value\"]\n",
    "html_mars_facts_html.to_html(index=False)"
   ]
  },
  {
   "cell_type": "markdown",
   "metadata": {},
   "source": [
    "### Mars Hemispheres"
   ]
  },
  {
   "cell_type": "code",
   "execution_count": 24,
   "metadata": {},
   "outputs": [],
   "source": [
    "# Visit the astrogeology site [here](https://marshemispheres.com/) to obtain high resolution images for each of \n",
    "    # Mars hemispheres.\n",
    "url_mars_hemis = 'https://marshemispheres.com/'\n",
    "browser.visit(url_mars_hemis)\n",
    "html_mars_hemis = browser.html"
   ]
  },
  {
   "cell_type": "code",
   "execution_count": 22,
   "metadata": {},
   "outputs": [
    {
     "data": {
      "text/plain": [
       "[<a class=\"itemLink product-item\" href=\"cerberus.html\"><img alt=\"Cerberus Hemisphere Enhanced thumbnail\" class=\"thumb\" src=\"images/39d3266553462198bd2fbc4d18fbed17_cerberus_enhanced.tif_thumb.png\"/></a>,\n",
       " <a class=\"itemLink product-item\" href=\"cerberus.html\">\n",
       " <h3>Cerberus Hemisphere Enhanced</h3>\n",
       " </a>,\n",
       " <a class=\"itemLink product-item\" href=\"schiaparelli.html\"><img alt=\"Schiaparelli Hemisphere Enhanced thumbnail\" class=\"thumb\" src=\"images/08eac6e22c07fb1fe72223a79252de20_schiaparelli_enhanced.tif_thumb.png\"/></a>,\n",
       " <a class=\"itemLink product-item\" href=\"schiaparelli.html\">\n",
       " <h3>Schiaparelli Hemisphere Enhanced</h3>\n",
       " </a>,\n",
       " <a class=\"itemLink product-item\" href=\"syrtis.html\"><img alt=\"Syrtis Major Hemisphere Enhanced thumbnail\" class=\"thumb\" src=\"images/55a0a1e2796313fdeafb17c35925e8ac_syrtis_major_enhanced.tif_thumb.png\"/></a>,\n",
       " <a class=\"itemLink product-item\" href=\"syrtis.html\">\n",
       " <h3>Syrtis Major Hemisphere Enhanced</h3>\n",
       " </a>,\n",
       " <a class=\"itemLink product-item\" href=\"valles.html\"><img alt=\"Valles Marineris Hemisphere Enhanced thumbnail\" class=\"thumb\" src=\"images/4e59980c1c57f89c680c0e1ccabbeff1_valles_marineris_enhanced.tif_thumb.png\"/></a>,\n",
       " <a class=\"itemLink product-item\" href=\"valles.html\">\n",
       " <h3>Valles Marineris Hemisphere Enhanced</h3>\n",
       " </a>,\n",
       " <a class=\"itemLink product-item\" href=\"#\" onclick=\"showMain()\">\n",
       " <h3>Back</h3>\n",
       " </a>]"
      ]
     },
     "execution_count": 22,
     "metadata": {},
     "output_type": "execute_result"
    }
   ],
   "source": [
    "# Use BeautifulSoup to help find and parse out the necessary data.  Use either html.parser or lxml parser.\n",
    "# Create a Beautiful Soup object\n",
    "soup_mars_hemis = bs(html_mars_hemis, 'html.parser')\n",
    "\n",
    "# Print the image links\n",
    "hemis_url_list = soup_mars_hemis.find_all('a', class_='itemLink product-item')\n",
    "hemis_url_list"
   ]
  },
  {
   "cell_type": "code",
   "execution_count": 25,
   "metadata": {},
   "outputs": [
    {
     "data": {
      "text/plain": [
       "[{'img_url': 'https://marshemispheres.com/images/full.jpg',\n",
       "  'title': 'Cerberus Hemisphere Enhanced'},\n",
       " {'img_url': 'https://marshemispheres.com/images/schiaparelli_enhanced-full.jpg',\n",
       "  'title': 'Schiaparelli Hemisphere Enhanced'},\n",
       " {'img_url': 'https://marshemispheres.com/images/syrtis_major_enhanced-full.jpg',\n",
       "  'title': 'Syrtis Major Hemisphere Enhanced'},\n",
       " {'img_url': 'https://marshemispheres.com/images/valles_marineris_enhanced-full.jpg',\n",
       "  'title': 'Valles Marineris Hemisphere Enhanced'}]"
      ]
     },
     "execution_count": 25,
     "metadata": {},
     "output_type": "execute_result"
    }
   ],
   "source": [
    "hemisphere_image_urls = []\n",
    "# Loop through returned results\n",
    "for i in range(4):\n",
    "    browser.find_by_css('a.product-item img')[i].click()\n",
    "    hemisphere = {}\n",
    "    \n",
    "    # Next, we find the Sample image anchor tag and extract the href\n",
    "    sample_elem = browser.links.find_by_text('Sample').first\n",
    "    hemisphere['img_url'] = sample_elem['href']\n",
    "    # Get Hemisphere title\n",
    "    hemisphere['title'] = browser.find_by_css('h2.title').text\n",
    "    # Append hemisphere object to list\n",
    "    hemisphere_image_urls.append(hemisphere)\n",
    "    # Finally, we navigate backwards\n",
    "    browser.back()\n",
    "    \n",
    "#     # Retrieve the title\n",
    "#     content_title = result.find('h3')\n",
    "#     content_title_hemis_list.append(content_title)\n",
    "    \n",
    "#     # Retrieve the images of the hemisphers\n",
    "#     hemis_image = soup_mars_hemis.find('a', class_='itemLink product-item')\n",
    "#     href = result['href']\n",
    "#     hemis_image_url = 'https://marshemispheres.com/' + href\n",
    "# #     print(hemis_image_url)\n",
    "#     hemis_image_url_list.append(hemis_image_url)\n",
    "\n",
    "# Not_none_values = filter(None.__ne__, content_title_hemis_list)\n",
    "\n",
    "# content_title_hemis_listvalues = list(Not_none_values)\n",
    "\n",
    "\n",
    "hemisphere_image_urls"
   ]
  },
  {
   "cell_type": "code",
   "execution_count": null,
   "metadata": {},
   "outputs": [],
   "source": [
    "# You will need to click each of the links to the hemispheres in order to find the image url to the full\n",
    "    # resolution image.\n",
    "# Save both the image url string for the full resolution hemisphere image, and the Hemisphere title containing\n",
    "    # the hemisphere name. Use a Python dictionary to store the data using the keys `img_url` and `title`.\n",
    "\n",
    "\n",
    "# Append the dictionary with the image url string and the hemisphere title to a list. This list will contain\n",
    "    # one dictionary for each hemisphere.\n",
    "# hemisphere_image_urls = [\n",
    "#     {\"title\": \"Valles Marineris Hemisphere\", \"img_url\": \"https://marshemispheres.com/images/valles_marineris_enhanced-full.jpg\"},\n",
    "#     {\"title\": \"Cerberus Hemisphere\", \"img_url\": \"https://marshemispheres.com/images/valles_marineris_enhanced-full.jpg\"},\n",
    "#     {\"title\": \"Schiaparelli Hemisphere\", \"img_url\": \"https://marshemispheres.com/images/schiaparelli_enhanced-full.jpg\"},\n",
    "#     {\"title\": \"Syrtis Major Hemisphere\", \"img_url\": \"https://marshemispheres.com/images/syrtis_major_enhanced-full.jpg\"},\n",
    "# ]\n"
   ]
  },
  {
   "cell_type": "code",
   "execution_count": 26,
   "metadata": {},
   "outputs": [],
   "source": [
    "browser.quit()"
   ]
  },
  {
   "cell_type": "code",
   "execution_count": null,
   "metadata": {},
   "outputs": [],
   "source": []
  }
 ],
 "metadata": {
  "kernelspec": {
   "display_name": "Python 3",
   "language": "python",
   "name": "python3"
  },
  "language_info": {
   "codemirror_mode": {
    "name": "ipython",
    "version": 3
   },
   "file_extension": ".py",
   "mimetype": "text/x-python",
   "name": "python",
   "nbconvert_exporter": "python",
   "pygments_lexer": "ipython3",
   "version": "3.8.5"
  }
 },
 "nbformat": 4,
 "nbformat_minor": 4
}
